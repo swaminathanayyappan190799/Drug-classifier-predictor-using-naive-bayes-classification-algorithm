{
  "nbformat": 4,
  "nbformat_minor": 0,
  "metadata": {
    "colab": {
      "name": "Drugclassifier",
      "provenance": [],
      "collapsed_sections": []
    },
    "kernelspec": {
      "name": "python3",
      "display_name": "Python 3"
    }
  },
  "cells": [
    {
      "cell_type": "code",
      "metadata": {
        "id": "rile67aiMvHm"
      },
      "source": [
        "#Importing pandas library with an alias name as 'pd'.\n",
        "import pandas as pd\n",
        "data=pd.read_csv('drug200.csv') #reading the csv file to data variable with the help of pandas."
      ],
      "execution_count": 1,
      "outputs": []
    },
    {
      "cell_type": "code",
      "metadata": {
        "id": "dLpUd0UfOmkG",
        "outputId": "5a0d6119-c0f3-4da4-b55e-8e30ec3f5709",
        "colab": {
          "base_uri": "https://localhost:8080/",
          "height": 343
        }
      },
      "source": [
        "#Viewing the first 10 entries of the data frame (data).\n",
        "data.head(10)"
      ],
      "execution_count": 2,
      "outputs": [
        {
          "output_type": "execute_result",
          "data": {
            "text/html": [
              "<div>\n",
              "<style scoped>\n",
              "    .dataframe tbody tr th:only-of-type {\n",
              "        vertical-align: middle;\n",
              "    }\n",
              "\n",
              "    .dataframe tbody tr th {\n",
              "        vertical-align: top;\n",
              "    }\n",
              "\n",
              "    .dataframe thead th {\n",
              "        text-align: right;\n",
              "    }\n",
              "</style>\n",
              "<table border=\"1\" class=\"dataframe\">\n",
              "  <thead>\n",
              "    <tr style=\"text-align: right;\">\n",
              "      <th></th>\n",
              "      <th>Age</th>\n",
              "      <th>Sex</th>\n",
              "      <th>BP</th>\n",
              "      <th>Cholesterol</th>\n",
              "      <th>Na_to_K</th>\n",
              "      <th>Drug</th>\n",
              "    </tr>\n",
              "  </thead>\n",
              "  <tbody>\n",
              "    <tr>\n",
              "      <th>0</th>\n",
              "      <td>23</td>\n",
              "      <td>F</td>\n",
              "      <td>HIGH</td>\n",
              "      <td>HIGH</td>\n",
              "      <td>25.355</td>\n",
              "      <td>DrugY</td>\n",
              "    </tr>\n",
              "    <tr>\n",
              "      <th>1</th>\n",
              "      <td>47</td>\n",
              "      <td>M</td>\n",
              "      <td>LOW</td>\n",
              "      <td>HIGH</td>\n",
              "      <td>13.093</td>\n",
              "      <td>drugC</td>\n",
              "    </tr>\n",
              "    <tr>\n",
              "      <th>2</th>\n",
              "      <td>47</td>\n",
              "      <td>M</td>\n",
              "      <td>LOW</td>\n",
              "      <td>HIGH</td>\n",
              "      <td>10.114</td>\n",
              "      <td>drugC</td>\n",
              "    </tr>\n",
              "    <tr>\n",
              "      <th>3</th>\n",
              "      <td>28</td>\n",
              "      <td>F</td>\n",
              "      <td>NORMAL</td>\n",
              "      <td>HIGH</td>\n",
              "      <td>7.798</td>\n",
              "      <td>drugX</td>\n",
              "    </tr>\n",
              "    <tr>\n",
              "      <th>4</th>\n",
              "      <td>61</td>\n",
              "      <td>F</td>\n",
              "      <td>LOW</td>\n",
              "      <td>HIGH</td>\n",
              "      <td>18.043</td>\n",
              "      <td>DrugY</td>\n",
              "    </tr>\n",
              "    <tr>\n",
              "      <th>5</th>\n",
              "      <td>22</td>\n",
              "      <td>F</td>\n",
              "      <td>NORMAL</td>\n",
              "      <td>HIGH</td>\n",
              "      <td>8.607</td>\n",
              "      <td>drugX</td>\n",
              "    </tr>\n",
              "    <tr>\n",
              "      <th>6</th>\n",
              "      <td>49</td>\n",
              "      <td>F</td>\n",
              "      <td>NORMAL</td>\n",
              "      <td>HIGH</td>\n",
              "      <td>16.275</td>\n",
              "      <td>DrugY</td>\n",
              "    </tr>\n",
              "    <tr>\n",
              "      <th>7</th>\n",
              "      <td>41</td>\n",
              "      <td>M</td>\n",
              "      <td>LOW</td>\n",
              "      <td>HIGH</td>\n",
              "      <td>11.037</td>\n",
              "      <td>drugC</td>\n",
              "    </tr>\n",
              "    <tr>\n",
              "      <th>8</th>\n",
              "      <td>60</td>\n",
              "      <td>M</td>\n",
              "      <td>NORMAL</td>\n",
              "      <td>HIGH</td>\n",
              "      <td>15.171</td>\n",
              "      <td>DrugY</td>\n",
              "    </tr>\n",
              "    <tr>\n",
              "      <th>9</th>\n",
              "      <td>43</td>\n",
              "      <td>M</td>\n",
              "      <td>LOW</td>\n",
              "      <td>NORMAL</td>\n",
              "      <td>19.368</td>\n",
              "      <td>DrugY</td>\n",
              "    </tr>\n",
              "  </tbody>\n",
              "</table>\n",
              "</div>"
            ],
            "text/plain": [
              "   Age Sex      BP Cholesterol  Na_to_K   Drug\n",
              "0   23   F    HIGH        HIGH   25.355  DrugY\n",
              "1   47   M     LOW        HIGH   13.093  drugC\n",
              "2   47   M     LOW        HIGH   10.114  drugC\n",
              "3   28   F  NORMAL        HIGH    7.798  drugX\n",
              "4   61   F     LOW        HIGH   18.043  DrugY\n",
              "5   22   F  NORMAL        HIGH    8.607  drugX\n",
              "6   49   F  NORMAL        HIGH   16.275  DrugY\n",
              "7   41   M     LOW        HIGH   11.037  drugC\n",
              "8   60   M  NORMAL        HIGH   15.171  DrugY\n",
              "9   43   M     LOW      NORMAL   19.368  DrugY"
            ]
          },
          "metadata": {
            "tags": []
          },
          "execution_count": 2
        }
      ]
    },
    {
      "cell_type": "code",
      "metadata": {
        "id": "maaiU9xVOpRQ",
        "outputId": "869d6a5d-dcfc-4830-86ed-820a8e1c671a",
        "colab": {
          "base_uri": "https://localhost:8080/",
          "height": 134
        }
      },
      "source": [
        "#To check whether any empty values present in the (data) dataset.\n",
        "data.isna().any()"
      ],
      "execution_count": 3,
      "outputs": [
        {
          "output_type": "execute_result",
          "data": {
            "text/plain": [
              "Age            False\n",
              "Sex            False\n",
              "BP             False\n",
              "Cholesterol    False\n",
              "Na_to_K        False\n",
              "Drug           False\n",
              "dtype: bool"
            ]
          },
          "metadata": {
            "tags": []
          },
          "execution_count": 3
        }
      ]
    },
    {
      "cell_type": "code",
      "metadata": {
        "id": "MIfOgS9POslG",
        "outputId": "979dcdfd-5400-4ab6-85c5-fd67db78ce64",
        "colab": {
          "base_uri": "https://localhost:8080/",
          "height": 134
        }
      },
      "source": [
        "#To check whether any null values present in the (data) dataset.\n",
        "data.isnull().sum()"
      ],
      "execution_count": 4,
      "outputs": [
        {
          "output_type": "execute_result",
          "data": {
            "text/plain": [
              "Age            0\n",
              "Sex            0\n",
              "BP             0\n",
              "Cholesterol    0\n",
              "Na_to_K        0\n",
              "Drug           0\n",
              "dtype: int64"
            ]
          },
          "metadata": {
            "tags": []
          },
          "execution_count": 4
        }
      ]
    },
    {
      "cell_type": "code",
      "metadata": {
        "id": "9HSLl5Y3Owei",
        "outputId": "2fa8a921-49d8-4209-9f8c-d2d8377abee0",
        "colab": {
          "base_uri": "https://localhost:8080/",
          "height": 235
        }
      },
      "source": [
        "#Viewing the entire information of the dataset.\n",
        "data.info()"
      ],
      "execution_count": 5,
      "outputs": [
        {
          "output_type": "stream",
          "text": [
            "<class 'pandas.core.frame.DataFrame'>\n",
            "RangeIndex: 200 entries, 0 to 199\n",
            "Data columns (total 6 columns):\n",
            " #   Column       Non-Null Count  Dtype  \n",
            "---  ------       --------------  -----  \n",
            " 0   Age          200 non-null    int64  \n",
            " 1   Sex          200 non-null    object \n",
            " 2   BP           200 non-null    object \n",
            " 3   Cholesterol  200 non-null    object \n",
            " 4   Na_to_K      200 non-null    float64\n",
            " 5   Drug         200 non-null    object \n",
            "dtypes: float64(1), int64(1), object(4)\n",
            "memory usage: 9.5+ KB\n"
          ],
          "name": "stdout"
        }
      ]
    },
    {
      "cell_type": "markdown",
      "metadata": {
        "id": "X6wQBRrSDZdi"
      },
      "source": [
        "# **Dependent and Independent variable allocation**"
      ]
    },
    {
      "cell_type": "code",
      "metadata": {
        "id": "WPIKtYd8Oyz4"
      },
      "source": [
        "X=data.iloc[:,0:5].values #Variable that contains matrix of independent features.\n",
        "y=data.iloc[:,5].values #Variable that contains vector of dependent features."
      ],
      "execution_count": 6,
      "outputs": []
    },
    {
      "cell_type": "code",
      "metadata": {
        "id": "vvKYz4LmP6gK",
        "outputId": "96c17c1d-2018-4726-b5dc-39cdbb7584ea",
        "colab": {
          "base_uri": "https://localhost:8080/",
          "height": 1000
        }
      },
      "source": [
        "X"
      ],
      "execution_count": 7,
      "outputs": [
        {
          "output_type": "execute_result",
          "data": {
            "text/plain": [
              "array([[23, 'F', 'HIGH', 'HIGH', 25.355],\n",
              "       [47, 'M', 'LOW', 'HIGH', 13.093],\n",
              "       [47, 'M', 'LOW', 'HIGH', 10.113999999999999],\n",
              "       [28, 'F', 'NORMAL', 'HIGH', 7.797999999999999],\n",
              "       [61, 'F', 'LOW', 'HIGH', 18.043],\n",
              "       [22, 'F', 'NORMAL', 'HIGH', 8.607000000000001],\n",
              "       [49, 'F', 'NORMAL', 'HIGH', 16.275],\n",
              "       [41, 'M', 'LOW', 'HIGH', 11.037],\n",
              "       [60, 'M', 'NORMAL', 'HIGH', 15.171],\n",
              "       [43, 'M', 'LOW', 'NORMAL', 19.368],\n",
              "       [47, 'F', 'LOW', 'HIGH', 11.767000000000001],\n",
              "       [34, 'F', 'HIGH', 'NORMAL', 19.199],\n",
              "       [43, 'M', 'LOW', 'HIGH', 15.376],\n",
              "       [74, 'F', 'LOW', 'HIGH', 20.941999999999997],\n",
              "       [50, 'F', 'NORMAL', 'HIGH', 12.703],\n",
              "       [16, 'F', 'HIGH', 'NORMAL', 15.515999999999998],\n",
              "       [69, 'M', 'LOW', 'NORMAL', 11.455],\n",
              "       [43, 'M', 'HIGH', 'HIGH', 13.972000000000001],\n",
              "       [23, 'M', 'LOW', 'HIGH', 7.297999999999999],\n",
              "       [32, 'F', 'HIGH', 'NORMAL', 25.974],\n",
              "       [57, 'M', 'LOW', 'NORMAL', 19.128],\n",
              "       [63, 'M', 'NORMAL', 'HIGH', 25.916999999999998],\n",
              "       [47, 'M', 'LOW', 'NORMAL', 30.568],\n",
              "       [48, 'F', 'LOW', 'HIGH', 15.036],\n",
              "       [33, 'F', 'LOW', 'HIGH', 33.486],\n",
              "       [28, 'F', 'HIGH', 'NORMAL', 18.809],\n",
              "       [31, 'M', 'HIGH', 'HIGH', 30.366],\n",
              "       [49, 'F', 'NORMAL', 'NORMAL', 9.381],\n",
              "       [39, 'F', 'LOW', 'NORMAL', 22.697],\n",
              "       [45, 'M', 'LOW', 'HIGH', 17.951],\n",
              "       [18, 'F', 'NORMAL', 'NORMAL', 8.75],\n",
              "       [74, 'M', 'HIGH', 'HIGH', 9.567],\n",
              "       [49, 'M', 'LOW', 'NORMAL', 11.014000000000001],\n",
              "       [65, 'F', 'HIGH', 'NORMAL', 31.875999999999998],\n",
              "       [53, 'M', 'NORMAL', 'HIGH', 14.133],\n",
              "       [46, 'M', 'NORMAL', 'NORMAL', 7.285],\n",
              "       [32, 'M', 'HIGH', 'NORMAL', 9.445],\n",
              "       [39, 'M', 'LOW', 'NORMAL', 13.937999999999999],\n",
              "       [39, 'F', 'NORMAL', 'NORMAL', 9.709],\n",
              "       [15, 'M', 'NORMAL', 'HIGH', 9.084],\n",
              "       [73, 'F', 'NORMAL', 'HIGH', 19.221],\n",
              "       [58, 'F', 'HIGH', 'NORMAL', 14.239],\n",
              "       [50, 'M', 'NORMAL', 'NORMAL', 15.79],\n",
              "       [23, 'M', 'NORMAL', 'HIGH', 12.26],\n",
              "       [50, 'F', 'NORMAL', 'NORMAL', 12.295],\n",
              "       [66, 'F', 'NORMAL', 'NORMAL', 8.107000000000001],\n",
              "       [37, 'F', 'HIGH', 'HIGH', 13.091],\n",
              "       [68, 'M', 'LOW', 'HIGH', 10.290999999999999],\n",
              "       [23, 'M', 'NORMAL', 'HIGH', 31.686],\n",
              "       [28, 'F', 'LOW', 'HIGH', 19.796],\n",
              "       [58, 'F', 'HIGH', 'HIGH', 19.416],\n",
              "       [67, 'M', 'NORMAL', 'NORMAL', 10.898],\n",
              "       [62, 'M', 'LOW', 'NORMAL', 27.183000000000003],\n",
              "       [24, 'F', 'HIGH', 'NORMAL', 18.457],\n",
              "       [68, 'F', 'HIGH', 'NORMAL', 10.189],\n",
              "       [26, 'F', 'LOW', 'HIGH', 14.16],\n",
              "       [65, 'M', 'HIGH', 'NORMAL', 11.34],\n",
              "       [40, 'M', 'HIGH', 'HIGH', 27.826],\n",
              "       [60, 'M', 'NORMAL', 'NORMAL', 10.091000000000001],\n",
              "       [34, 'M', 'HIGH', 'HIGH', 18.703],\n",
              "       [38, 'F', 'LOW', 'NORMAL', 29.875],\n",
              "       [24, 'M', 'HIGH', 'NORMAL', 9.475],\n",
              "       [67, 'M', 'LOW', 'NORMAL', 20.693],\n",
              "       [45, 'M', 'LOW', 'NORMAL', 8.37],\n",
              "       [60, 'F', 'HIGH', 'HIGH', 13.302999999999999],\n",
              "       [68, 'F', 'NORMAL', 'NORMAL', 27.05],\n",
              "       [29, 'M', 'HIGH', 'HIGH', 12.856],\n",
              "       [17, 'M', 'NORMAL', 'NORMAL', 10.832],\n",
              "       [54, 'M', 'NORMAL', 'HIGH', 24.658],\n",
              "       [18, 'F', 'HIGH', 'NORMAL', 24.276],\n",
              "       [70, 'M', 'HIGH', 'HIGH', 13.967],\n",
              "       [28, 'F', 'NORMAL', 'HIGH', 19.675],\n",
              "       [24, 'F', 'NORMAL', 'HIGH', 10.605],\n",
              "       [41, 'F', 'NORMAL', 'NORMAL', 22.905],\n",
              "       [31, 'M', 'HIGH', 'NORMAL', 17.069000000000003],\n",
              "       [26, 'M', 'LOW', 'NORMAL', 20.909000000000002],\n",
              "       [36, 'F', 'HIGH', 'HIGH', 11.198],\n",
              "       [26, 'F', 'HIGH', 'NORMAL', 19.160999999999998],\n",
              "       [19, 'F', 'HIGH', 'HIGH', 13.312999999999999],\n",
              "       [32, 'F', 'LOW', 'NORMAL', 10.84],\n",
              "       [60, 'M', 'HIGH', 'HIGH', 13.934000000000001],\n",
              "       [64, 'M', 'NORMAL', 'HIGH', 7.761],\n",
              "       [32, 'F', 'LOW', 'HIGH', 9.712],\n",
              "       [38, 'F', 'HIGH', 'NORMAL', 11.325999999999999],\n",
              "       [47, 'F', 'LOW', 'HIGH', 10.067],\n",
              "       [59, 'M', 'HIGH', 'HIGH', 13.935],\n",
              "       [51, 'F', 'NORMAL', 'HIGH', 13.597000000000001],\n",
              "       [69, 'M', 'LOW', 'HIGH', 15.478],\n",
              "       [37, 'F', 'HIGH', 'NORMAL', 23.090999999999998],\n",
              "       [50, 'F', 'NORMAL', 'NORMAL', 17.211],\n",
              "       [62, 'M', 'NORMAL', 'HIGH', 16.594],\n",
              "       [41, 'M', 'HIGH', 'NORMAL', 15.155999999999999],\n",
              "       [29, 'F', 'HIGH', 'HIGH', 29.45],\n",
              "       [42, 'F', 'LOW', 'NORMAL', 29.271],\n",
              "       [56, 'M', 'LOW', 'HIGH', 15.015],\n",
              "       [36, 'M', 'LOW', 'NORMAL', 11.424000000000001],\n",
              "       [58, 'F', 'LOW', 'HIGH', 38.247],\n",
              "       [56, 'F', 'HIGH', 'HIGH', 25.395],\n",
              "       [20, 'M', 'HIGH', 'NORMAL', 35.639],\n",
              "       [15, 'F', 'HIGH', 'NORMAL', 16.725],\n",
              "       [31, 'M', 'HIGH', 'NORMAL', 11.870999999999999],\n",
              "       [45, 'F', 'HIGH', 'HIGH', 12.854000000000001],\n",
              "       [28, 'F', 'LOW', 'HIGH', 13.127],\n",
              "       [56, 'M', 'NORMAL', 'HIGH', 8.966000000000001],\n",
              "       [22, 'M', 'HIGH', 'NORMAL', 28.294],\n",
              "       [37, 'M', 'LOW', 'NORMAL', 8.968],\n",
              "       [22, 'M', 'NORMAL', 'HIGH', 11.953],\n",
              "       [42, 'M', 'LOW', 'HIGH', 20.012999999999998],\n",
              "       [72, 'M', 'HIGH', 'NORMAL', 9.677],\n",
              "       [23, 'M', 'NORMAL', 'HIGH', 16.85],\n",
              "       [50, 'M', 'HIGH', 'HIGH', 7.49],\n",
              "       [47, 'F', 'NORMAL', 'NORMAL', 6.683],\n",
              "       [35, 'M', 'LOW', 'NORMAL', 9.17],\n",
              "       [65, 'F', 'LOW', 'NORMAL', 13.769],\n",
              "       [20, 'F', 'NORMAL', 'NORMAL', 9.281],\n",
              "       [51, 'M', 'HIGH', 'HIGH', 18.295],\n",
              "       [67, 'M', 'NORMAL', 'NORMAL', 9.514],\n",
              "       [40, 'F', 'NORMAL', 'HIGH', 10.103],\n",
              "       [32, 'F', 'HIGH', 'NORMAL', 10.292],\n",
              "       [61, 'F', 'HIGH', 'HIGH', 25.475],\n",
              "       [28, 'M', 'NORMAL', 'HIGH', 27.064],\n",
              "       [15, 'M', 'HIGH', 'NORMAL', 17.206],\n",
              "       [34, 'M', 'NORMAL', 'HIGH', 22.456],\n",
              "       [36, 'F', 'NORMAL', 'HIGH', 16.753],\n",
              "       [53, 'F', 'HIGH', 'NORMAL', 12.495],\n",
              "       [19, 'F', 'HIGH', 'NORMAL', 25.969],\n",
              "       [66, 'M', 'HIGH', 'HIGH', 16.347],\n",
              "       [35, 'M', 'NORMAL', 'NORMAL', 7.845],\n",
              "       [47, 'M', 'LOW', 'NORMAL', 33.542],\n",
              "       [32, 'F', 'NORMAL', 'HIGH', 7.477],\n",
              "       [70, 'F', 'NORMAL', 'HIGH', 20.489],\n",
              "       [52, 'M', 'LOW', 'NORMAL', 32.922],\n",
              "       [49, 'M', 'LOW', 'NORMAL', 13.597999999999999],\n",
              "       [24, 'M', 'NORMAL', 'HIGH', 25.785999999999998],\n",
              "       [42, 'F', 'HIGH', 'HIGH', 21.035999999999998],\n",
              "       [74, 'M', 'LOW', 'NORMAL', 11.939],\n",
              "       [55, 'F', 'HIGH', 'HIGH', 10.977],\n",
              "       [35, 'F', 'HIGH', 'HIGH', 12.894],\n",
              "       [51, 'M', 'HIGH', 'NORMAL', 11.343],\n",
              "       [69, 'F', 'NORMAL', 'HIGH', 10.065],\n",
              "       [49, 'M', 'HIGH', 'NORMAL', 6.269],\n",
              "       [64, 'F', 'LOW', 'NORMAL', 25.741],\n",
              "       [60, 'M', 'HIGH', 'NORMAL', 8.621],\n",
              "       [74, 'M', 'HIGH', 'NORMAL', 15.436],\n",
              "       [39, 'M', 'HIGH', 'HIGH', 9.664],\n",
              "       [61, 'M', 'NORMAL', 'HIGH', 9.443],\n",
              "       [37, 'F', 'LOW', 'NORMAL', 12.005999999999998],\n",
              "       [26, 'F', 'HIGH', 'NORMAL', 12.307],\n",
              "       [61, 'F', 'LOW', 'NORMAL', 7.34],\n",
              "       [22, 'M', 'LOW', 'HIGH', 8.151],\n",
              "       [49, 'M', 'HIGH', 'NORMAL', 8.7],\n",
              "       [68, 'M', 'HIGH', 'HIGH', 11.009],\n",
              "       [55, 'M', 'NORMAL', 'NORMAL', 7.261],\n",
              "       [72, 'F', 'LOW', 'NORMAL', 14.642000000000001],\n",
              "       [37, 'M', 'LOW', 'NORMAL', 16.724],\n",
              "       [49, 'M', 'LOW', 'HIGH', 10.537],\n",
              "       [31, 'M', 'HIGH', 'NORMAL', 11.227],\n",
              "       [53, 'M', 'LOW', 'HIGH', 22.963],\n",
              "       [59, 'F', 'LOW', 'HIGH', 10.444],\n",
              "       [34, 'F', 'LOW', 'NORMAL', 12.923],\n",
              "       [30, 'F', 'NORMAL', 'HIGH', 10.443],\n",
              "       [57, 'F', 'HIGH', 'NORMAL', 9.945],\n",
              "       [43, 'M', 'NORMAL', 'NORMAL', 12.859000000000002],\n",
              "       [21, 'F', 'HIGH', 'NORMAL', 28.631999999999998],\n",
              "       [16, 'M', 'HIGH', 'NORMAL', 19.007],\n",
              "       [38, 'M', 'LOW', 'HIGH', 18.295],\n",
              "       [58, 'F', 'LOW', 'HIGH', 26.645],\n",
              "       [57, 'F', 'NORMAL', 'HIGH', 14.216],\n",
              "       [51, 'F', 'LOW', 'NORMAL', 23.003],\n",
              "       [20, 'F', 'HIGH', 'HIGH', 11.262],\n",
              "       [28, 'F', 'NORMAL', 'HIGH', 12.879000000000001],\n",
              "       [45, 'M', 'LOW', 'NORMAL', 10.017000000000001],\n",
              "       [39, 'F', 'NORMAL', 'NORMAL', 17.225],\n",
              "       [41, 'F', 'LOW', 'NORMAL', 18.739],\n",
              "       [42, 'M', 'HIGH', 'NORMAL', 12.765999999999998],\n",
              "       [73, 'F', 'HIGH', 'HIGH', 18.348],\n",
              "       [48, 'M', 'HIGH', 'NORMAL', 10.446],\n",
              "       [25, 'M', 'NORMAL', 'HIGH', 19.011],\n",
              "       [39, 'M', 'NORMAL', 'HIGH', 15.969000000000001],\n",
              "       [67, 'F', 'NORMAL', 'HIGH', 15.890999999999998],\n",
              "       [22, 'F', 'HIGH', 'NORMAL', 22.818],\n",
              "       [59, 'F', 'NORMAL', 'HIGH', 13.884],\n",
              "       [20, 'F', 'LOW', 'NORMAL', 11.686],\n",
              "       [36, 'F', 'HIGH', 'NORMAL', 15.49],\n",
              "       [18, 'F', 'HIGH', 'HIGH', 37.188],\n",
              "       [57, 'F', 'NORMAL', 'NORMAL', 25.893],\n",
              "       [70, 'M', 'HIGH', 'HIGH', 9.849],\n",
              "       [47, 'M', 'HIGH', 'HIGH', 10.402999999999999],\n",
              "       [65, 'M', 'HIGH', 'NORMAL', 34.997],\n",
              "       [64, 'M', 'HIGH', 'NORMAL', 20.932],\n",
              "       [58, 'M', 'HIGH', 'HIGH', 18.991],\n",
              "       [23, 'M', 'HIGH', 'HIGH', 8.011000000000001],\n",
              "       [72, 'M', 'LOW', 'HIGH', 16.31],\n",
              "       [72, 'M', 'LOW', 'HIGH', 6.769],\n",
              "       [46, 'F', 'HIGH', 'HIGH', 34.686],\n",
              "       [56, 'F', 'LOW', 'HIGH', 11.567],\n",
              "       [16, 'M', 'LOW', 'HIGH', 12.005999999999998],\n",
              "       [52, 'M', 'NORMAL', 'HIGH', 9.894],\n",
              "       [23, 'M', 'NORMAL', 'NORMAL', 14.02],\n",
              "       [40, 'F', 'LOW', 'NORMAL', 11.349]], dtype=object)"
            ]
          },
          "metadata": {
            "tags": []
          },
          "execution_count": 7
        }
      ]
    },
    {
      "cell_type": "markdown",
      "metadata": {
        "id": "Dgj6oBxR-nKL"
      },
      "source": [
        "As we can able to see there are some categorical and binary values in our dependent and independent variables which we need to encode it before we are going to fitting into our model."
      ]
    },
    {
      "cell_type": "code",
      "metadata": {
        "id": "AFsc316pQS3-"
      },
      "source": [
        "from sklearn.preprocessing import LabelEncoder #Importing labelencoder class from scikit learn library\n",
        "l1=LabelEncoder() #Instantiating the labelencoder class as l1\n",
        "l2=LabelEncoder() #Instantiating the labelencoder class as l2\n",
        "l3=LabelEncoder() #Instantiating the labelencoder class as l3\n",
        "l4=LabelEncoder() #Instantiating the labelencoder class as l4\n",
        "X[:,1]=l1.fit_transform(X[:,1]) #Encoding the gender(sex) feature in our independent variable. \n",
        "X[:,2]=l2.fit_transform(X[:,2]) #Encoding the Blood pressure level feature in our independent variable.\n",
        "X[:,3]=l3.fit_transform(X[:,3]) #Encoding the Choloestrol level feature in our independent variable.\n",
        "y=l4.fit_transform(y) #Encoding the Drug feature in our dependent variable."
      ],
      "execution_count": 8,
      "outputs": []
    },
    {
      "cell_type": "code",
      "metadata": {
        "id": "Zs5gI7iVQ4_r",
        "outputId": "40d04b02-5634-44a9-fcf0-844d1625794b",
        "colab": {
          "base_uri": "https://localhost:8080/",
          "height": 1000
        }
      },
      "source": [
        "X #Viewing the independent variable after encoding."
      ],
      "execution_count": 9,
      "outputs": [
        {
          "output_type": "execute_result",
          "data": {
            "text/plain": [
              "array([[23, 0, 0, 0, 25.355],\n",
              "       [47, 1, 1, 0, 13.093],\n",
              "       [47, 1, 1, 0, 10.113999999999999],\n",
              "       [28, 0, 2, 0, 7.797999999999999],\n",
              "       [61, 0, 1, 0, 18.043],\n",
              "       [22, 0, 2, 0, 8.607000000000001],\n",
              "       [49, 0, 2, 0, 16.275],\n",
              "       [41, 1, 1, 0, 11.037],\n",
              "       [60, 1, 2, 0, 15.171],\n",
              "       [43, 1, 1, 1, 19.368],\n",
              "       [47, 0, 1, 0, 11.767000000000001],\n",
              "       [34, 0, 0, 1, 19.199],\n",
              "       [43, 1, 1, 0, 15.376],\n",
              "       [74, 0, 1, 0, 20.941999999999997],\n",
              "       [50, 0, 2, 0, 12.703],\n",
              "       [16, 0, 0, 1, 15.515999999999998],\n",
              "       [69, 1, 1, 1, 11.455],\n",
              "       [43, 1, 0, 0, 13.972000000000001],\n",
              "       [23, 1, 1, 0, 7.297999999999999],\n",
              "       [32, 0, 0, 1, 25.974],\n",
              "       [57, 1, 1, 1, 19.128],\n",
              "       [63, 1, 2, 0, 25.916999999999998],\n",
              "       [47, 1, 1, 1, 30.568],\n",
              "       [48, 0, 1, 0, 15.036],\n",
              "       [33, 0, 1, 0, 33.486],\n",
              "       [28, 0, 0, 1, 18.809],\n",
              "       [31, 1, 0, 0, 30.366],\n",
              "       [49, 0, 2, 1, 9.381],\n",
              "       [39, 0, 1, 1, 22.697],\n",
              "       [45, 1, 1, 0, 17.951],\n",
              "       [18, 0, 2, 1, 8.75],\n",
              "       [74, 1, 0, 0, 9.567],\n",
              "       [49, 1, 1, 1, 11.014000000000001],\n",
              "       [65, 0, 0, 1, 31.875999999999998],\n",
              "       [53, 1, 2, 0, 14.133],\n",
              "       [46, 1, 2, 1, 7.285],\n",
              "       [32, 1, 0, 1, 9.445],\n",
              "       [39, 1, 1, 1, 13.937999999999999],\n",
              "       [39, 0, 2, 1, 9.709],\n",
              "       [15, 1, 2, 0, 9.084],\n",
              "       [73, 0, 2, 0, 19.221],\n",
              "       [58, 0, 0, 1, 14.239],\n",
              "       [50, 1, 2, 1, 15.79],\n",
              "       [23, 1, 2, 0, 12.26],\n",
              "       [50, 0, 2, 1, 12.295],\n",
              "       [66, 0, 2, 1, 8.107000000000001],\n",
              "       [37, 0, 0, 0, 13.091],\n",
              "       [68, 1, 1, 0, 10.290999999999999],\n",
              "       [23, 1, 2, 0, 31.686],\n",
              "       [28, 0, 1, 0, 19.796],\n",
              "       [58, 0, 0, 0, 19.416],\n",
              "       [67, 1, 2, 1, 10.898],\n",
              "       [62, 1, 1, 1, 27.183000000000003],\n",
              "       [24, 0, 0, 1, 18.457],\n",
              "       [68, 0, 0, 1, 10.189],\n",
              "       [26, 0, 1, 0, 14.16],\n",
              "       [65, 1, 0, 1, 11.34],\n",
              "       [40, 1, 0, 0, 27.826],\n",
              "       [60, 1, 2, 1, 10.091000000000001],\n",
              "       [34, 1, 0, 0, 18.703],\n",
              "       [38, 0, 1, 1, 29.875],\n",
              "       [24, 1, 0, 1, 9.475],\n",
              "       [67, 1, 1, 1, 20.693],\n",
              "       [45, 1, 1, 1, 8.37],\n",
              "       [60, 0, 0, 0, 13.302999999999999],\n",
              "       [68, 0, 2, 1, 27.05],\n",
              "       [29, 1, 0, 0, 12.856],\n",
              "       [17, 1, 2, 1, 10.832],\n",
              "       [54, 1, 2, 0, 24.658],\n",
              "       [18, 0, 0, 1, 24.276],\n",
              "       [70, 1, 0, 0, 13.967],\n",
              "       [28, 0, 2, 0, 19.675],\n",
              "       [24, 0, 2, 0, 10.605],\n",
              "       [41, 0, 2, 1, 22.905],\n",
              "       [31, 1, 0, 1, 17.069000000000003],\n",
              "       [26, 1, 1, 1, 20.909000000000002],\n",
              "       [36, 0, 0, 0, 11.198],\n",
              "       [26, 0, 0, 1, 19.160999999999998],\n",
              "       [19, 0, 0, 0, 13.312999999999999],\n",
              "       [32, 0, 1, 1, 10.84],\n",
              "       [60, 1, 0, 0, 13.934000000000001],\n",
              "       [64, 1, 2, 0, 7.761],\n",
              "       [32, 0, 1, 0, 9.712],\n",
              "       [38, 0, 0, 1, 11.325999999999999],\n",
              "       [47, 0, 1, 0, 10.067],\n",
              "       [59, 1, 0, 0, 13.935],\n",
              "       [51, 0, 2, 0, 13.597000000000001],\n",
              "       [69, 1, 1, 0, 15.478],\n",
              "       [37, 0, 0, 1, 23.090999999999998],\n",
              "       [50, 0, 2, 1, 17.211],\n",
              "       [62, 1, 2, 0, 16.594],\n",
              "       [41, 1, 0, 1, 15.155999999999999],\n",
              "       [29, 0, 0, 0, 29.45],\n",
              "       [42, 0, 1, 1, 29.271],\n",
              "       [56, 1, 1, 0, 15.015],\n",
              "       [36, 1, 1, 1, 11.424000000000001],\n",
              "       [58, 0, 1, 0, 38.247],\n",
              "       [56, 0, 0, 0, 25.395],\n",
              "       [20, 1, 0, 1, 35.639],\n",
              "       [15, 0, 0, 1, 16.725],\n",
              "       [31, 1, 0, 1, 11.870999999999999],\n",
              "       [45, 0, 0, 0, 12.854000000000001],\n",
              "       [28, 0, 1, 0, 13.127],\n",
              "       [56, 1, 2, 0, 8.966000000000001],\n",
              "       [22, 1, 0, 1, 28.294],\n",
              "       [37, 1, 1, 1, 8.968],\n",
              "       [22, 1, 2, 0, 11.953],\n",
              "       [42, 1, 1, 0, 20.012999999999998],\n",
              "       [72, 1, 0, 1, 9.677],\n",
              "       [23, 1, 2, 0, 16.85],\n",
              "       [50, 1, 0, 0, 7.49],\n",
              "       [47, 0, 2, 1, 6.683],\n",
              "       [35, 1, 1, 1, 9.17],\n",
              "       [65, 0, 1, 1, 13.769],\n",
              "       [20, 0, 2, 1, 9.281],\n",
              "       [51, 1, 0, 0, 18.295],\n",
              "       [67, 1, 2, 1, 9.514],\n",
              "       [40, 0, 2, 0, 10.103],\n",
              "       [32, 0, 0, 1, 10.292],\n",
              "       [61, 0, 0, 0, 25.475],\n",
              "       [28, 1, 2, 0, 27.064],\n",
              "       [15, 1, 0, 1, 17.206],\n",
              "       [34, 1, 2, 0, 22.456],\n",
              "       [36, 0, 2, 0, 16.753],\n",
              "       [53, 0, 0, 1, 12.495],\n",
              "       [19, 0, 0, 1, 25.969],\n",
              "       [66, 1, 0, 0, 16.347],\n",
              "       [35, 1, 2, 1, 7.845],\n",
              "       [47, 1, 1, 1, 33.542],\n",
              "       [32, 0, 2, 0, 7.477],\n",
              "       [70, 0, 2, 0, 20.489],\n",
              "       [52, 1, 1, 1, 32.922],\n",
              "       [49, 1, 1, 1, 13.597999999999999],\n",
              "       [24, 1, 2, 0, 25.785999999999998],\n",
              "       [42, 0, 0, 0, 21.035999999999998],\n",
              "       [74, 1, 1, 1, 11.939],\n",
              "       [55, 0, 0, 0, 10.977],\n",
              "       [35, 0, 0, 0, 12.894],\n",
              "       [51, 1, 0, 1, 11.343],\n",
              "       [69, 0, 2, 0, 10.065],\n",
              "       [49, 1, 0, 1, 6.269],\n",
              "       [64, 0, 1, 1, 25.741],\n",
              "       [60, 1, 0, 1, 8.621],\n",
              "       [74, 1, 0, 1, 15.436],\n",
              "       [39, 1, 0, 0, 9.664],\n",
              "       [61, 1, 2, 0, 9.443],\n",
              "       [37, 0, 1, 1, 12.005999999999998],\n",
              "       [26, 0, 0, 1, 12.307],\n",
              "       [61, 0, 1, 1, 7.34],\n",
              "       [22, 1, 1, 0, 8.151],\n",
              "       [49, 1, 0, 1, 8.7],\n",
              "       [68, 1, 0, 0, 11.009],\n",
              "       [55, 1, 2, 1, 7.261],\n",
              "       [72, 0, 1, 1, 14.642000000000001],\n",
              "       [37, 1, 1, 1, 16.724],\n",
              "       [49, 1, 1, 0, 10.537],\n",
              "       [31, 1, 0, 1, 11.227],\n",
              "       [53, 1, 1, 0, 22.963],\n",
              "       [59, 0, 1, 0, 10.444],\n",
              "       [34, 0, 1, 1, 12.923],\n",
              "       [30, 0, 2, 0, 10.443],\n",
              "       [57, 0, 0, 1, 9.945],\n",
              "       [43, 1, 2, 1, 12.859000000000002],\n",
              "       [21, 0, 0, 1, 28.631999999999998],\n",
              "       [16, 1, 0, 1, 19.007],\n",
              "       [38, 1, 1, 0, 18.295],\n",
              "       [58, 0, 1, 0, 26.645],\n",
              "       [57, 0, 2, 0, 14.216],\n",
              "       [51, 0, 1, 1, 23.003],\n",
              "       [20, 0, 0, 0, 11.262],\n",
              "       [28, 0, 2, 0, 12.879000000000001],\n",
              "       [45, 1, 1, 1, 10.017000000000001],\n",
              "       [39, 0, 2, 1, 17.225],\n",
              "       [41, 0, 1, 1, 18.739],\n",
              "       [42, 1, 0, 1, 12.765999999999998],\n",
              "       [73, 0, 0, 0, 18.348],\n",
              "       [48, 1, 0, 1, 10.446],\n",
              "       [25, 1, 2, 0, 19.011],\n",
              "       [39, 1, 2, 0, 15.969000000000001],\n",
              "       [67, 0, 2, 0, 15.890999999999998],\n",
              "       [22, 0, 0, 1, 22.818],\n",
              "       [59, 0, 2, 0, 13.884],\n",
              "       [20, 0, 1, 1, 11.686],\n",
              "       [36, 0, 0, 1, 15.49],\n",
              "       [18, 0, 0, 0, 37.188],\n",
              "       [57, 0, 2, 1, 25.893],\n",
              "       [70, 1, 0, 0, 9.849],\n",
              "       [47, 1, 0, 0, 10.402999999999999],\n",
              "       [65, 1, 0, 1, 34.997],\n",
              "       [64, 1, 0, 1, 20.932],\n",
              "       [58, 1, 0, 0, 18.991],\n",
              "       [23, 1, 0, 0, 8.011000000000001],\n",
              "       [72, 1, 1, 0, 16.31],\n",
              "       [72, 1, 1, 0, 6.769],\n",
              "       [46, 0, 0, 0, 34.686],\n",
              "       [56, 0, 1, 0, 11.567],\n",
              "       [16, 1, 1, 0, 12.005999999999998],\n",
              "       [52, 1, 2, 0, 9.894],\n",
              "       [23, 1, 2, 1, 14.02],\n",
              "       [40, 0, 1, 1, 11.349]], dtype=object)"
            ]
          },
          "metadata": {
            "tags": []
          },
          "execution_count": 9
        }
      ]
    },
    {
      "cell_type": "code",
      "metadata": {
        "id": "5oWZqabJRIAD",
        "outputId": "87defae5-bcdf-4832-a851-e9bb7e5f8c2e",
        "colab": {
          "base_uri": "https://localhost:8080/",
          "height": 185
        }
      },
      "source": [
        "y #Viewing the dependent variable after encoding."
      ],
      "execution_count": 10,
      "outputs": [
        {
          "output_type": "execute_result",
          "data": {
            "text/plain": [
              "array([0, 3, 3, 4, 0, 4, 0, 3, 0, 0, 3, 0, 0, 0, 4, 0, 4, 1, 3, 0, 0, 0,\n",
              "       0, 0, 0, 0, 0, 4, 0, 0, 4, 2, 4, 0, 4, 4, 1, 4, 4, 4, 0, 2, 0, 4,\n",
              "       4, 4, 1, 3, 0, 0, 0, 4, 0, 0, 2, 3, 2, 0, 4, 0, 0, 1, 0, 4, 2, 0,\n",
              "       1, 4, 0, 0, 2, 0, 4, 0, 0, 0, 1, 0, 1, 4, 2, 4, 3, 1, 3, 2, 4, 0,\n",
              "       0, 0, 0, 0, 0, 0, 0, 4, 0, 0, 0, 0, 1, 1, 3, 4, 0, 4, 4, 0, 2, 0,\n",
              "       1, 4, 4, 4, 4, 0, 4, 4, 1, 0, 0, 0, 0, 0, 2, 0, 0, 4, 0, 4, 0, 0,\n",
              "       4, 0, 0, 4, 2, 1, 2, 4, 1, 0, 2, 0, 1, 4, 4, 1, 4, 3, 1, 2, 4, 4,\n",
              "       0, 3, 1, 0, 3, 4, 4, 2, 4, 0, 0, 0, 0, 4, 0, 1, 4, 4, 0, 0, 1, 0,\n",
              "       1, 0, 0, 0, 0, 4, 4, 0, 0, 0, 2, 1, 0, 0, 0, 1, 0, 3, 0, 3, 3, 4,\n",
              "       4, 4])"
            ]
          },
          "metadata": {
            "tags": []
          },
          "execution_count": 10
        }
      ]
    },
    {
      "cell_type": "markdown",
      "metadata": {
        "id": "NJyoDE_xDuYf"
      },
      "source": [
        "# **Encoding categorical features**"
      ]
    },
    {
      "cell_type": "code",
      "metadata": {
        "id": "58RG4Jx1RISF",
        "outputId": "09575c53-a3b6-4551-f140-c2ec337e976e",
        "colab": {
          "base_uri": "https://localhost:8080/",
          "height": 134
        }
      },
      "source": [
        "import numpy as np #Importing numpy package as np\n",
        "from sklearn.compose import ColumnTransformer #Importing columntransfer classs from scikit learn\n",
        "from sklearn.preprocessing import OneHotEncoder #Importing onehotencoder class from scikit learn\n",
        "ct = ColumnTransformer(transformers=[('encoder', OneHotEncoder(), [2])], remainder='passthrough') #Instantiating columntransfer class\n",
        "X = np.array(ct.fit_transform(X)) #Transform the blood pressure level with the help of column transfer and transforming it into an numpy array\n",
        "print(X)"
      ],
      "execution_count": 11,
      "outputs": [
        {
          "output_type": "stream",
          "text": [
            "[[1.0 0.0 0.0 ... 0 0 25.355]\n",
            " [0.0 1.0 0.0 ... 1 0 13.093]\n",
            " [0.0 1.0 0.0 ... 1 0 10.113999999999999]\n",
            " ...\n",
            " [0.0 0.0 1.0 ... 1 0 9.894]\n",
            " [0.0 0.0 1.0 ... 1 1 14.02]\n",
            " [0.0 1.0 0.0 ... 0 1 11.349]]\n"
          ],
          "name": "stdout"
        }
      ]
    },
    {
      "cell_type": "code",
      "metadata": {
        "id": "4Kfbv1PXR2El"
      },
      "source": [
        "X=X[:,1:] #Removing one of the categorical values of blood pressure level inorder to avoid dummy variable trap."
      ],
      "execution_count": 12,
      "outputs": []
    },
    {
      "cell_type": "code",
      "metadata": {
        "id": "dXJcCb6ASAhm",
        "outputId": "46fcc48d-86a5-4ab3-de31-3c204767589c",
        "colab": {
          "base_uri": "https://localhost:8080/",
          "height": 134
        }
      },
      "source": [
        "X"
      ],
      "execution_count": 13,
      "outputs": [
        {
          "output_type": "execute_result",
          "data": {
            "text/plain": [
              "array([[0.0, 0.0, 23, 0, 0, 25.355],\n",
              "       [1.0, 0.0, 47, 1, 0, 13.093],\n",
              "       [1.0, 0.0, 47, 1, 0, 10.113999999999999],\n",
              "       ...,\n",
              "       [0.0, 1.0, 52, 1, 0, 9.894],\n",
              "       [0.0, 1.0, 23, 1, 1, 14.02],\n",
              "       [1.0, 0.0, 40, 0, 1, 11.349]], dtype=object)"
            ]
          },
          "metadata": {
            "tags": []
          },
          "execution_count": 13
        }
      ]
    },
    {
      "cell_type": "code",
      "metadata": {
        "id": "SE1wa80NSKzR",
        "outputId": "a1e3ab8e-ce71-472b-a134-71356de721d7",
        "colab": {
          "base_uri": "https://localhost:8080/",
          "height": 185
        }
      },
      "source": [
        "y"
      ],
      "execution_count": 14,
      "outputs": [
        {
          "output_type": "execute_result",
          "data": {
            "text/plain": [
              "array([0, 3, 3, 4, 0, 4, 0, 3, 0, 0, 3, 0, 0, 0, 4, 0, 4, 1, 3, 0, 0, 0,\n",
              "       0, 0, 0, 0, 0, 4, 0, 0, 4, 2, 4, 0, 4, 4, 1, 4, 4, 4, 0, 2, 0, 4,\n",
              "       4, 4, 1, 3, 0, 0, 0, 4, 0, 0, 2, 3, 2, 0, 4, 0, 0, 1, 0, 4, 2, 0,\n",
              "       1, 4, 0, 0, 2, 0, 4, 0, 0, 0, 1, 0, 1, 4, 2, 4, 3, 1, 3, 2, 4, 0,\n",
              "       0, 0, 0, 0, 0, 0, 0, 4, 0, 0, 0, 0, 1, 1, 3, 4, 0, 4, 4, 0, 2, 0,\n",
              "       1, 4, 4, 4, 4, 0, 4, 4, 1, 0, 0, 0, 0, 0, 2, 0, 0, 4, 0, 4, 0, 0,\n",
              "       4, 0, 0, 4, 2, 1, 2, 4, 1, 0, 2, 0, 1, 4, 4, 1, 4, 3, 1, 2, 4, 4,\n",
              "       0, 3, 1, 0, 3, 4, 4, 2, 4, 0, 0, 0, 0, 4, 0, 1, 4, 4, 0, 0, 1, 0,\n",
              "       1, 0, 0, 0, 0, 4, 4, 0, 0, 0, 2, 1, 0, 0, 0, 1, 0, 3, 0, 3, 3, 4,\n",
              "       4, 4])"
            ]
          },
          "metadata": {
            "tags": []
          },
          "execution_count": 14
        }
      ]
    },
    {
      "cell_type": "code",
      "metadata": {
        "id": "6hjc5OP0Wo7Q"
      },
      "source": [
        "from sklearn.model_selection import train_test_split #Importing train and test split from scikit learn library.\n",
        "X_train,X_test,y_train,y_test=train_test_split(X,y,test_size=0.2,random_state=0) #Allocating train and test variables with a test soze of 20%."
      ],
      "execution_count": 15,
      "outputs": []
    },
    {
      "cell_type": "markdown",
      "metadata": {
        "id": "xbNfv02vCFL_"
      },
      "source": [
        "## **Feature Scaling**"
      ]
    },
    {
      "cell_type": "code",
      "metadata": {
        "id": "XGsoBi1DSNT4"
      },
      "source": [
        "from sklearn.preprocessing import StandardScaler #Importing standardscaler class from scikit learn library\n",
        "sc=StandardScaler() #Creating an instance for StandardScaler class.\n",
        "X_train=sc.fit_transform(X_train) #Performing feature scaling for the training set.\n",
        "X_test=sc.transform(X_test) #Performing feature scaling for the test set."
      ],
      "execution_count": 16,
      "outputs": []
    },
    {
      "cell_type": "markdown",
      "metadata": {
        "id": "gmnU2GfyEogZ"
      },
      "source": [
        "# **Naive bayes classifier implementation**"
      ]
    },
    {
      "cell_type": "code",
      "metadata": {
        "id": "XWApfqluXSqd",
        "outputId": "dcebac01-04d0-488f-d23c-d9e81c216276",
        "colab": {
          "base_uri": "https://localhost:8080/",
          "height": 34
        }
      },
      "source": [
        "from sklearn.naive_bayes import GaussianNB #Importing the gaussianNB class from scikit learn.\n",
        "nb_classifier=GaussianNB() #Creating instance for naive bayes classifier.\n",
        "nb_classifier.fit(X_train,y_train) #Training our model with the data."
      ],
      "execution_count": 17,
      "outputs": [
        {
          "output_type": "execute_result",
          "data": {
            "text/plain": [
              "GaussianNB(priors=None, var_smoothing=1e-09)"
            ]
          },
          "metadata": {
            "tags": []
          },
          "execution_count": 17
        }
      ]
    },
    {
      "cell_type": "code",
      "metadata": {
        "id": "tQvpSp0qXdNh",
        "outputId": "072a8759-3376-486e-ffbf-465bf7bf454d",
        "colab": {
          "base_uri": "https://localhost:8080/",
          "height": 34
        }
      },
      "source": [
        "nb_classifier.score(X_test,y_test) #Evaluating our naive bayes classifier model performance"
      ],
      "execution_count": 18,
      "outputs": [
        {
          "output_type": "execute_result",
          "data": {
            "text/plain": [
              "0.8"
            ]
          },
          "metadata": {
            "tags": []
          },
          "execution_count": 18
        }
      ]
    },
    {
      "cell_type": "markdown",
      "metadata": {
        "id": "wZEGrTa3ILTh"
      },
      "source": [
        "# **Implementation of K-fold Cross validation**"
      ]
    },
    {
      "cell_type": "code",
      "metadata": {
        "id": "G1t9uJkRXjyb"
      },
      "source": [
        "from sklearn.model_selection import cross_val_score #Importing cross validation class from scikit learn library.\n",
        "acc=cross_val_score(estimator=nb_classifier,X=X_train,y=y_train,cv=10) #Evaluating the naive bayes classifier model with a cross validation split of 10."
      ],
      "execution_count": 19,
      "outputs": []
    },
    {
      "cell_type": "code",
      "metadata": {
        "id": "gGmgfW3OXyIc",
        "outputId": "73941913-a0b9-468a-b0a9-e067d7d13e38",
        "colab": {
          "base_uri": "https://localhost:8080/",
          "height": 34
        }
      },
      "source": [
        "acc.mean() #Obtaining the mean of 10 test fold accuracies."
      ],
      "execution_count": 20,
      "outputs": [
        {
          "output_type": "execute_result",
          "data": {
            "text/plain": [
              "0.8"
            ]
          },
          "metadata": {
            "tags": []
          },
          "execution_count": 20
        }
      ]
    },
    {
      "cell_type": "code",
      "metadata": {
        "id": "lWiWVXttSgzI",
        "outputId": "d68b955f-68d9-4c54-c1d3-8e1f2dad9e81",
        "colab": {
          "base_uri": "https://localhost:8080/",
          "height": 34
        }
      },
      "source": [
        "acc.std() "
      ],
      "execution_count": 21,
      "outputs": [
        {
          "output_type": "execute_result",
          "data": {
            "text/plain": [
              "0.09185586535436918"
            ]
          },
          "metadata": {
            "tags": []
          },
          "execution_count": 21
        }
      ]
    },
    {
      "cell_type": "code",
      "metadata": {
        "id": "VFWxyHAKmCEt",
        "outputId": "bb367932-1ab6-4361-fc87-673c7213e1b5",
        "colab": {
          "base_uri": "https://localhost:8080/",
          "height": 34
        }
      },
      "source": [
        "#Blood pressure is the multicategorical variable in the training variable \n",
        "X[0]\n",
        "#In the below statement the blood pressure is referred to as \"High\""
      ],
      "execution_count": 22,
      "outputs": [
        {
          "output_type": "execute_result",
          "data": {
            "text/plain": [
              "array([0.0, 0.0, 23, 0, 0, 25.355], dtype=object)"
            ]
          },
          "metadata": {
            "tags": []
          },
          "execution_count": 22
        }
      ]
    },
    {
      "cell_type": "markdown",
      "metadata": {
        "id": "cep43YJASjnG"
      },
      "source": [
        "# **Sample prediction from user input**"
      ]
    },
    {
      "cell_type": "code",
      "metadata": {
        "id": "EqwLTRrwmQYf",
        "outputId": "5e1da49a-a7e9-4805-da6f-dcd7e4a89e6c",
        "colab": {
          "base_uri": "https://localhost:8080/",
          "height": 118
        }
      },
      "source": [
        "age=int(input(\"Age of the patient : \"))\n",
        "gen=input(\"Gender of the patient : (M/F)\")\n",
        "bp=input(\"Enter the Blood pressure of the patient : (HIGH/LOW/NORMAL) :\")\n",
        "chol=input(\"Enter the Cholestrol level of the patient : (HIGH/NORMAL) :\")\n",
        "sodtopot=float(input(\"Enter the sodium to potassium ration in blood of the patient :\"))\n",
        "temp1=0\n",
        "temp2=0\n",
        "gen1=0\n",
        "ch=0\n",
        "if bp==\"HIGH\":\n",
        "  temp1=0.0\n",
        "  temp2=0.0\n",
        "elif bp==\"LOW\":\n",
        "  temp1=1.0\n",
        "  temp2=0.0\n",
        "elif bp==\"NORMAL\":\n",
        "  temp1=0.0\n",
        "  temp2=1.0\n",
        "if gen==\"M\":\n",
        "  gen1=1\n",
        "elif gen==\"F\":\n",
        "  gen1=0\n",
        "if chol==\"HIGH\":\n",
        "  ch=0\n",
        "elif chol==\"NORMAL\":\n",
        "  ch=1\n",
        "result=int(nb_classifier.predict(sc.transform([[temp1,temp2,age,gen1,ch,sodtopot]])))\n",
        "if result==0:\n",
        "  print(\"DrugY\")\n",
        "elif result==1:\n",
        "  print(\"drugA\")\n",
        "elif result==2:\n",
        "  print(\"drugB\")\n",
        "elif result==3:\n",
        "  print(\"drugC\")\n",
        "elif result==4:\n",
        "  print(\"drugX\")\n"
      ],
      "execution_count": 23,
      "outputs": [
        {
          "output_type": "stream",
          "text": [
            "Age of the patient : 24\n",
            "Gender of the patient : (M/F)M\n",
            "Enter the Blood pressure of the patient : (HIGH/LOW/NORMAL) :LOW\n",
            "Enter the Cholestrol level of the patient : (HIGH/NORMAL) :HIGH\n",
            "Enter the sodium to potassium ration in blood of the patient :23.4\n",
            "drugC\n"
          ],
          "name": "stdout"
        }
      ]
    }
  ]
}